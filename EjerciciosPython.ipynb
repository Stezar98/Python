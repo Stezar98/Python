{
  "nbformat": 4,
  "nbformat_minor": 0,
  "metadata": {
    "colab": {
      "provenance": [],
      "authorship_tag": "ABX9TyO1vb58cs8Eo2iVOwqEDEmx",
      "include_colab_link": true
    },
    "kernelspec": {
      "name": "python3",
      "display_name": "Python 3"
    },
    "language_info": {
      "name": "python"
    }
  },
  "cells": [
    {
      "cell_type": "markdown",
      "metadata": {
        "id": "view-in-github",
        "colab_type": "text"
      },
      "source": [
        "<a href=\"https://colab.research.google.com/github/Stezar98/Python/blob/main/EjerciciosPython.ipynb\" target=\"_parent\"><img src=\"https://colab.research.google.com/assets/colab-badge.svg\" alt=\"Open In Colab\"/></a>"
      ]
    },
    {
      "cell_type": "code",
      "execution_count": null,
      "metadata": {
        "colab": {
          "base_uri": "https://localhost:8080/"
        },
        "id": "Xm7uzQ-w-a_o",
        "outputId": "e48ea238-8a9d-4cd9-c8d5-66d1b7911302"
      },
      "outputs": [
        {
          "output_type": "stream",
          "name": "stdout",
          "text": [
            "El número más grande entre 100 y 15 es 100\n"
          ]
        }
      ],
      "source": [
        "# 1. Definir una función max() que tome como argumento dos números y devuelva el mayor de ellos.\n",
        "# (Es cierto que python tiene una función max() incorporada, pero deben hacerla ustedes mismos).\n",
        "\n",
        "def max_personalizado(num1, num2):\n",
        "    if num1 > num2:\n",
        "        return num1\n",
        "    else:\n",
        "        return num2\n",
        "\n",
        "# Ejemplo de uso\n",
        "numero1 = 100\n",
        "numero2 = 15\n",
        "resultado = max_personalizado(numero1, numero2)\n",
        "print(f\"El número más grande entre {numero1} y {numero2} es {resultado}\")"
      ]
    },
    {
      "cell_type": "code",
      "source": [
        "# 2. Definir una función max_de_tres(), que tome tres números como argumentos y devuelva el mayor de ellos.\n",
        "\n",
        "def max_de_tres(num1, num2, num3):\n",
        "    if num1 >= num2 and num1 >= num3:\n",
        "        return num1\n",
        "    elif num2 >= num1 and num2 >= num3:\n",
        "        return num2\n",
        "    else:\n",
        "        return num3\n",
        "\n",
        "# Ejemplo de uso\n",
        "numero1 = 10\n",
        "numero2 = 15\n",
        "numero3 = 50\n",
        "resultado = max_de_tres(numero1, numero2, numero3)\n",
        "print(f\"El número más grande entre {numero1}, {numero2} y {numero3} es {resultado}\")"
      ],
      "metadata": {
        "colab": {
          "base_uri": "https://localhost:8080/"
        },
        "id": "xdZVK4-9TrH7",
        "outputId": "011f9fe8-9b4b-42fe-f3a4-2c8950b0b04a"
      },
      "execution_count": null,
      "outputs": [
        {
          "output_type": "stream",
          "name": "stdout",
          "text": [
            "El número más grande entre 10, 15 y 50 es 50\n"
          ]
        }
      ]
    },
    {
      "cell_type": "code",
      "source": [
        "# 3. Definir una función que calcule la longitud de una lista o una cadena dada.\n",
        "# (Es cierto que python tiene la función len() incorporada, pero deben escribirla ustedes mismos).\n",
        "\n",
        "def calcular_longitud(iterable):\n",
        "    longitud = 0\n",
        "    for _ in iterable:\n",
        "        longitud += 1\n",
        "    return longitud\n",
        "\n",
        "# Ejemplo de uso con una lista\n",
        "mi_lista = [1, 2, 3, 4, 5, 6, 7, 8, 9, 10]\n",
        "longitud_lista = calcular_longitud(mi_lista)\n",
        "print(f\"La longitud de la lista es {longitud_lista}\")\n",
        "\n",
        "# Ejemplo de uso con una cadena\n",
        "mi_cadena = \"Hola a los estudiantes de 10-2 del colegio fundadores.\"\n",
        "longitud_cadena = calcular_longitud(mi_cadena)\n",
        "print(f\"La longitud de la cadena es {longitud_cadena}\")"
      ],
      "metadata": {
        "colab": {
          "base_uri": "https://localhost:8080/"
        },
        "id": "k6FaKXkjIQt2",
        "outputId": "c8d2ea42-30ba-46d9-e82f-307f28620d41"
      },
      "execution_count": null,
      "outputs": [
        {
          "output_type": "stream",
          "name": "stdout",
          "text": [
            "La longitud de la lista es 10\n",
            "La longitud de la cadena es 54\n"
          ]
        }
      ]
    },
    {
      "cell_type": "code",
      "source": [
        "# 4. Escribir una función que tome un carácter y devuelva True si es una vocal, de lo contrario devuelve False.\n",
        "\n",
        "def es_vocal(caracter):\n",
        "    # Convertimos el carácter a minúsculas para hacer la comparación más robusta\n",
        "    caracter = caracter.lower()\n",
        "\n",
        "    # Comparamos el carácter con las vocales\n",
        "    if caracter == 'a' or caracter == 'e' or caracter == 'i' or caracter == 'o' or caracter == 'u':\n",
        "        return True\n",
        "    else:\n",
        "        return False\n",
        "\n",
        "# Ejemplo de uso\n",
        "letra = 'a'\n",
        "resultado = es_vocal(letra)\n",
        "if resultado:\n",
        "    print(f\"'{letra}' es una vocal.\")\n",
        "else:\n",
        "    print(f\"'{letra}' no es una vocal.\")\n",
        "\n",
        "    # Ejemplo de uso\n",
        "letra = 'd'\n",
        "resultado = es_vocal(letra)\n",
        "if resultado:\n",
        "    print(f\"'{letra}' es una vocal.\")\n",
        "else:\n",
        "    print(f\"'{letra}' no es una vocal.\")"
      ],
      "metadata": {
        "colab": {
          "base_uri": "https://localhost:8080/"
        },
        "id": "I6FzYWT5IyEE",
        "outputId": "f37427ca-3535-4307-a4c0-7b78b09f3095"
      },
      "execution_count": null,
      "outputs": [
        {
          "output_type": "stream",
          "name": "stdout",
          "text": [
            "'a' es una vocal.\n",
            "'d' no es una vocal.\n"
          ]
        }
      ]
    },
    {
      "cell_type": "code",
      "source": [
        "# 5. Escribir una función sum() y una función multip() que sumen y multipliquen respectivamente todos los números de una lista.\n",
        "# Por ejemplo: sum([1,2,3,4]) debería devolver 10 y multip([1,2,3,4]) debería devolver 24.\n",
        "\n",
        "def suma(lista):\n",
        "    resultado = 0\n",
        "    for numero in lista:\n",
        "        resultado += numero\n",
        "    return resultado\n",
        "\n",
        "def multiplica(lista):\n",
        "    resultado = 1  # Inicializado en 1 para la multiplicación, multiplicación por 0 es igual a 0\n",
        "    for numero in lista:\n",
        "        resultado *= numero\n",
        "    return resultado\n",
        "\n",
        "# Ejemplo de uso\n",
        "lista_numeros = [1, 2, 3, 4, 5, 6, 7]\n",
        "resultado_suma = suma(lista_numeros)\n",
        "resultado_multiplicacion = multiplica(lista_numeros)\n",
        "\n",
        "print(f\"La suma de los números en la lista es: {resultado_suma}\")\n",
        "print(f\"La multiplicación de los números en la lista es: {resultado_multiplicacion}\")"
      ],
      "metadata": {
        "colab": {
          "base_uri": "https://localhost:8080/"
        },
        "id": "qKaQ9SjWJRpW",
        "outputId": "48780a2d-9b42-4083-cac3-c7cdf93ba97e"
      },
      "execution_count": null,
      "outputs": [
        {
          "output_type": "stream",
          "name": "stdout",
          "text": [
            "La suma de los números en la lista es: 28\n",
            "La multiplicación de los números en la lista es: 5040\n"
          ]
        }
      ]
    },
    {
      "cell_type": "code",
      "source": [
        "# 6. Definir una función inversa() que calcule la inversión de una cadena.\n",
        "# Por ejemplo, la cadena \"estoy probando\" debería devolver la cadena \"odnaborp yotse\"\n",
        "\n",
        "def inversa(cadena):\n",
        "    cadena_invertida = cadena[::-1]\n",
        "    return cadena_invertida\n",
        "\n",
        "# Ejemplo de uso\n",
        "cadena_original = \"estoy probando\"\n",
        "cadena_invertida = inversa(cadena_original)\n",
        "print(f\"La cadena invertida de '{cadena_original}' es: '{cadena_invertida}'\")"
      ],
      "metadata": {
        "colab": {
          "base_uri": "https://localhost:8080/"
        },
        "id": "bziAaPOKKEiR",
        "outputId": "10131e9b-0187-40ab-e947-ef8b8b29b3d4"
      },
      "execution_count": null,
      "outputs": [
        {
          "output_type": "stream",
          "name": "stdout",
          "text": [
            "La cadena invertida de 'estoy probando' es: 'odnaborp yotse'\n"
          ]
        }
      ]
    },
    {
      "cell_type": "code",
      "source": [
        "# 7. Definir una función es_palindromo() que reconoce palíndromos (es decir, palabras que tienen el mismo aspecto escritas invertidas)\n",
        "# Por ejemplo: es_palindromo (\"radar\") tendría que devolver True.\n",
        "\n",
        "def es_palindromo(palabra):\n",
        "    palabra = palabra.lower()  # Convertir la palabra a minúsculas para hacer la comparación insensible a mayúsculas y minúsculas\n",
        "    palabra = palabra.replace(\" \", \"\")  # Eliminar espacios en blanco de la palabra\n",
        "    palabra_invertida = palabra[::-1]\n",
        "\n",
        "    return palabra == palabra_invertida\n",
        "\n",
        "# Ejemplo de uso\n",
        "palabra = \"Radar\"\n",
        "resultado = es_palindromo(palabra)\n",
        "\n",
        "if resultado:\n",
        "    print(f\"'{palabra}' es un palíndromo.\")\n",
        "else:\n",
        "    print(f\"'{palabra}' no es un palíndromo.\")\n",
        "\n",
        "    # Ejemplo de uso\n",
        "palabra = \"Amor\"\n",
        "resultado = es_palindromo(palabra)\n",
        "\n",
        "if resultado:\n",
        "    print(f\"'{palabra}' es un palíndromo.\")\n",
        "else:\n",
        "    print(f\"'{palabra}' no es un palíndromo.\")"
      ],
      "metadata": {
        "colab": {
          "base_uri": "https://localhost:8080/"
        },
        "id": "OebTf8d7KVh2",
        "outputId": "a8b81018-43f5-4081-b73d-534051c074f7"
      },
      "execution_count": null,
      "outputs": [
        {
          "output_type": "stream",
          "name": "stdout",
          "text": [
            "'Radar' es un palíndromo.\n",
            "'Amor' no es un palíndromo.\n"
          ]
        }
      ]
    },
    {
      "cell_type": "code",
      "source": [
        "# 8. Definir una función superposicion() que tome dos listas y devuelva True si\n",
        "# tienen al menos 1 miembro en común o devuelva False de lo contrario. Escribir la función usando el bucle for anidado.\n",
        "\n",
        "def superposicion(lista1, lista2):\n",
        "    for elemento1 in lista1:\n",
        "        for elemento2 in lista2:\n",
        "            if elemento1 == elemento2:\n",
        "                return True  # Si se encuentra una superposición, retornamos True\n",
        "\n",
        "    return False  # Si no se encontró ninguna superposición, retornamos False\n",
        "\n",
        "# Ejemplo de uso\n",
        "lista1 = [1, 2, 3, 4, 5]\n",
        "lista2 = [5, 6, 7, 8, 9]\n",
        "resultado = superposicion(lista1, lista2)\n",
        "\n",
        "if resultado:\n",
        "    print(\"Las listas tienen al menos un miembro en común.\")\n",
        "else:\n",
        "    print(\"Las listas no tienen miembros en común.\")\n",
        "\n",
        "    # Ejemplo de uso\n",
        "lista1 = [10, 12, 13, 14, 15]\n",
        "lista2 = [5, 6, 7, 8, 9]\n",
        "resultado = superposicion(lista1, lista2)\n",
        "\n",
        "if resultado:\n",
        "    print(\"Las listas tienen al menos un miembro en común.\")\n",
        "else:\n",
        "    print(\"Las listas no tienen miembros en común.\")"
      ],
      "metadata": {
        "colab": {
          "base_uri": "https://localhost:8080/"
        },
        "id": "NgVnOt-oK6YM",
        "outputId": "2ccba393-b282-454a-bbb8-d589006d1160"
      },
      "execution_count": null,
      "outputs": [
        {
          "output_type": "stream",
          "name": "stdout",
          "text": [
            "Las listas tienen al menos un miembro en común.\n",
            "Las listas no tienen miembros en común.\n"
          ]
        }
      ]
    },
    {
      "cell_type": "code",
      "source": [
        "# 9. Definir una función generar_n_caracteres() que tome un entero n y devuelva el caracter multiplicado por n.\n",
        "# Por ejemplo: generar_n_caracteres(5, \"x\") debería devolver \"xxxxx\".\n",
        "\n",
        "def generar_n_caracteres(n, caracter):\n",
        "    resultado = caracter * n\n",
        "    return resultado\n",
        "\n",
        "# Ejemplo de uso\n",
        "n = 15\n",
        "caracter = \"x\"\n",
        "resultado = generar_n_caracteres(n, caracter)\n",
        "print(f\"'{caracter}' multiplicado por {n} es: '{resultado}'\")"
      ],
      "metadata": {
        "colab": {
          "base_uri": "https://localhost:8080/"
        },
        "id": "49LZ4MwiMCX2",
        "outputId": "5db28232-fc56-4411-9047-0cad9d95be7d"
      },
      "execution_count": null,
      "outputs": [
        {
          "output_type": "stream",
          "name": "stdout",
          "text": [
            "'x' multiplicado por 15 es: 'xxxxxxxxxxxxxxx'\n"
          ]
        }
      ]
    },
    {
      "cell_type": "code",
      "source": [
        "# 10. Definir un histograma procedimiento() que tome una lista de números enteros e imprima un histograma en la pantalla.\n",
        "# Ejemplo: procedimiento([4, 9, 7]) debería imprimir lo siguiente:\n",
        "# ****\n",
        "# *********\n",
        "# *******\n",
        "\n",
        "def procedimiento(lista):\n",
        "    for numero in lista:\n",
        "        print('*' * numero)\n",
        "\n",
        "# Ejemplo de uso\n",
        "numeros = [4, 9, 7]\n",
        "procedimiento(numeros)"
      ],
      "metadata": {
        "colab": {
          "base_uri": "https://localhost:8080/"
        },
        "id": "VWSfl4ErMWdY",
        "outputId": "e4bd7599-a839-481e-dc8f-5ce78e8727d5"
      },
      "execution_count": null,
      "outputs": [
        {
          "output_type": "stream",
          "name": "stdout",
          "text": [
            "****\n",
            "*********\n",
            "*******\n"
          ]
        }
      ]
    },
    {
      "cell_type": "code",
      "source": [
        "# 11. La función max() del ejercicio 1 y la función max_de_tres() del ejercicio 2, solo van a funcionar para 2 o 3 números.\n",
        "# Supongamos que tenemos más de 3 números o no sabemos cuántos números son.\n",
        "# Escribir una función max_in_list() que tome una lista de números y devuelva el más grande.\n",
        "\n",
        "def max_in_list(lista):\n",
        "    if len(lista) == 0:\n",
        "        return None  # Devolvemos None si la lista está vacía\n",
        "\n",
        "    maximo = lista[0]  # Suponemos que el primer número es el máximo\n",
        "\n",
        "    for numero in lista:\n",
        "        if numero > maximo:\n",
        "            maximo = numero  # Actualizamos el máximo si encontramos un número más grande\n",
        "\n",
        "    return maximo\n",
        "\n",
        "# Ejemplo de uso\n",
        "numeros = [12, 45, 7, 23, 56, 34, 9]\n",
        "resultado = max_in_list(numeros)\n",
        "print(f\"El número más grande en la lista es: {resultado}\")"
      ],
      "metadata": {
        "colab": {
          "base_uri": "https://localhost:8080/"
        },
        "id": "fjvtL5JlMsnA",
        "outputId": "5ef2e5c1-91f0-45c2-814e-39dafe5ff49e"
      },
      "execution_count": null,
      "outputs": [
        {
          "output_type": "stream",
          "name": "stdout",
          "text": [
            "El número más grande en la lista es: 56\n"
          ]
        }
      ]
    },
    {
      "cell_type": "code",
      "source": [
        "# 12. Escribir una función mas_larga() que tome una lista de palabras y devuelva la más larga.\n",
        "\n",
        "def mas_larga(lista_palabras):\n",
        "    if not lista_palabras:\n",
        "        return None  # Devolvemos None si la lista está vacía\n",
        "\n",
        "    palabra_mas_larga = lista_palabras[0]\n",
        "\n",
        "    for palabra in lista_palabras:\n",
        "        if len(palabra) > len(palabra_mas_larga):\n",
        "            palabra_mas_larga = palabra\n",
        "\n",
        "    return palabra_mas_larga\n",
        "\n",
        "# Ejemplo de uso\n",
        "palabras = [\"gato\", \"perro\", \"elefante\", \"rinoceronte\", \"pájaro\", \"esternocleidomastoideo\", \"otorrinolaringología \"]\n",
        "resultado = mas_larga(palabras)\n",
        "print(f\"La palabra más larga en la lista es: '{resultado}'\")"
      ],
      "metadata": {
        "colab": {
          "base_uri": "https://localhost:8080/"
        },
        "id": "7Q68WlkSNtDF",
        "outputId": "014dfa6b-4820-4a2a-c252-a3066e70cf39"
      },
      "execution_count": null,
      "outputs": [
        {
          "output_type": "stream",
          "name": "stdout",
          "text": [
            "La palabra más larga en la lista es: 'esternocleidomastoideo'\n"
          ]
        }
      ]
    },
    {
      "cell_type": "code",
      "source": [
        "# 13. Escribir una función filtrar_palabras() que tome una lista de palabras y un entero n\n",
        "# y devuelva las palabras que tengan más de n caracteres.\n",
        "\n",
        "def filtrar_palabras(lista_palabras, n):\n",
        "    palabras_filtradas = [palabra for palabra in lista_palabras if len(palabra) > n]\n",
        "    return palabras_filtradas\n",
        "\n",
        "# Ejemplo de uso\n",
        "palabras = [\"loro\", \"caballo\", \"elefante\", \"tiburón\", \"pájaro\"]\n",
        "n = 6\n",
        "palabras_filtradas = filtrar_palabras(palabras, n)\n",
        "print(f\"Palabras con más de {n} caracteres: {palabras_filtradas}\")"
      ],
      "metadata": {
        "colab": {
          "base_uri": "https://localhost:8080/"
        },
        "id": "gwmFg0R7OIX-",
        "outputId": "db118397-fe6d-4ba0-e21e-765f2d4ee733"
      },
      "execution_count": null,
      "outputs": [
        {
          "output_type": "stream",
          "name": "stdout",
          "text": [
            "Palabras con más de 6 caracteres: ['caballo', 'elefante', 'tiburón']\n"
          ]
        }
      ]
    },
    {
      "cell_type": "code",
      "source": [
        "# 14. Escribir un programa que le diga al usuario que ingrese una cadena.\n",
        "# El programa tiene que evaluar la cadena y decir cuantas letras mayúsculas tiene.\n",
        "\n",
        "def contar_mayusculas(cadena):\n",
        "    mayusculas = 0\n",
        "    for caracter in cadena:\n",
        "        if caracter.isupper():\n",
        "            mayusculas += 1\n",
        "    return mayusculas\n",
        "\n",
        "cadena = input(\"Por favor, ingresa una cadena: \")\n",
        "cantidad_mayusculas = contar_mayusculas(cadena)\n",
        "\n",
        "print(f\"La cadena tiene {cantidad_mayusculas} letras mayúsculas.\")"
      ],
      "metadata": {
        "colab": {
          "base_uri": "https://localhost:8080/"
        },
        "id": "HZPn2tiROvA7",
        "outputId": "841c8b48-29ad-482b-ee05-76530c795a61"
      },
      "execution_count": null,
      "outputs": [
        {
          "output_type": "stream",
          "name": "stdout",
          "text": [
            "Por favor, ingresa una cadena: Hola. Bienvenido a Los Juegos del Hambre.\n",
            "La cadena tiene 5 letras mayúsculas.\n"
          ]
        }
      ]
    },
    {
      "cell_type": "code",
      "source": [
        "# 15. Construir un pequeño programa que convierta números binarios en enteros y viceversa.\n",
        "\n",
        "def binario_a_entero(numero_binario):\n",
        "    return int(numero_binario, 2)\n",
        "\n",
        "def entero_a_binario(numero_entero):\n",
        "    return bin(numero_entero)[2:]\n",
        "\n",
        "while True:\n",
        "    print(\"Opciones:\")\n",
        "    print(\"1. Convertir de binario a entero\")\n",
        "    print(\"2. Convertir de entero a binario\")\n",
        "    print(\"3. Salir\")\n",
        "\n",
        "    opcion = input(\"Elige una opción: \")\n",
        "\n",
        "    if opcion == '1':\n",
        "        numero_binario = input(\"Ingresa un número binario: \")\n",
        "        numero_entero = binario_a_entero(numero_binario)\n",
        "        print(f\"El número binario {numero_binario} es igual a {numero_entero} en decimal.\")\n",
        "    elif opcion == '2':\n",
        "        numero_entero = int(input(\"Ingresa un número entero: \"))\n",
        "        numero_binario = entero_a_binario(numero_entero)\n",
        "        print(f\"El número entero {numero_entero} es igual a {numero_binario} en binario.\")\n",
        "    elif opcion == '3':\n",
        "        break\n",
        "    else:\n",
        "        print(\"Opción no válida. Por favor, elige una opción válida.\")"
      ],
      "metadata": {
        "colab": {
          "base_uri": "https://localhost:8080/"
        },
        "id": "vm-I7EkXPkCz",
        "outputId": "7d718579-95ca-43f9-9b73-4c779159b294"
      },
      "execution_count": null,
      "outputs": [
        {
          "name": "stdout",
          "output_type": "stream",
          "text": [
            "Opciones:\n",
            "1. Convertir de binario a entero\n",
            "2. Convertir de entero a binario\n",
            "3. Salir\n",
            "Elige una opción: 2\n",
            "Ingresa un número entero: 1000\n",
            "El número entero 1000 es igual a 1111101000 en binario.\n",
            "Opciones:\n",
            "1. Convertir de binario a entero\n",
            "2. Convertir de entero a binario\n",
            "3. Salir\n",
            "Elige una opción: 3\n"
          ]
        }
      ]
    },
    {
      "cell_type": "code",
      "source": [
        "# 16. Escribir un pequeño programa donde:\n",
        "# - Se ingresa el año en curso.\n",
        "# - Se ingresa el nombre y el año de nacimiento de tres personas.\n",
        "# - Se calcula cuántos años cumplirán durante el año en curso.\n",
        "# - Se imprime en pantalla.\n",
        "\n",
        "# Obtener el año en curso\n",
        "ano_actual = int(input(\"Ingresa el año en curso: \"))\n",
        "\n",
        "# Crear una lista para almacenar la información de las personas\n",
        "personas = []\n",
        "\n",
        "# Solicitar el nombre y el año de nacimiento de tres personas\n",
        "for i in range(3):\n",
        "    nombre = input(f\"Ingresa el nombre de la persona {i + 1}: \")\n",
        "    ano_nacimiento = int(input(f\"Ingresa el año de nacimiento de {nombre}: \"))\n",
        "    personas.append((nombre, ano_nacimiento))\n",
        "\n",
        "# Calcular la edad de cada persona durante el año en curso\n",
        "edades = []\n",
        "for nombre, ano_nacimiento in personas:\n",
        "    edad = ano_actual - ano_nacimiento\n",
        "    edades.append((nombre, edad))\n",
        "\n",
        "# Imprimir las edades\n",
        "print(\"Edades de las personas durante el año en curso:\")\n",
        "for nombre, edad in edades:\n",
        "    print(f\"{nombre} cumplirá {edad} años durante el año {ano_actual}.\")"
      ],
      "metadata": {
        "colab": {
          "base_uri": "https://localhost:8080/"
        },
        "id": "WYYNMc7gQhG8",
        "outputId": "e44b314b-92ed-49ab-c67d-1d89890eb1c8"
      },
      "execution_count": null,
      "outputs": [
        {
          "output_type": "stream",
          "name": "stdout",
          "text": [
            "Ingresa el año en curso: 2023\n",
            "Ingresa el nombre de la persona 1: Daniel\n",
            "Ingresa el año de nacimiento de Daniel: 1998\n",
            "Ingresa el nombre de la persona 2: Vanesa\n",
            "Ingresa el año de nacimiento de Vanesa: 2002\n",
            "Ingresa el nombre de la persona 3: Jovan\n",
            "Ingresa el año de nacimiento de Jovan: 1996\n",
            "Edades de las personas durante el año en curso:\n",
            "Daniel cumplirá 25 años durante el año 2023.\n",
            "Vanesa cumplirá 21 años durante el año 2023.\n",
            "Jovan cumplirá 27 años durante el año 2023.\n"
          ]
        }
      ]
    },
    {
      "cell_type": "code",
      "source": [
        "# 17. Definir una tupla con 10 edades de personas.\n",
        "# Imprimir la cantidad de personas con edades superiores a 20.\n",
        "# Puedes variar el ejercicio para que sea el usuario quien ingrese las edades.\n",
        "# Pedir al usuario que ingrese 10 edades\n",
        "\n",
        "# Primera solución:\n",
        "# Definir una tupla con 10 edades de personas\n",
        "edades = (25, 18, 30, 22, 19, 35, 28, 21, 24, 40)\n",
        "\n",
        "# Contar la cantidad de personas con edades superiores a 20\n",
        "cantidad_superiores_a_20 = sum(1 for edad in edades if edad > 20)\n",
        "\n",
        "print(f\"La cantidad de personas con edades superiores a 20 es: {cantidad_superiores_a_20}\")\n",
        "\n",
        "# Segunda solución:\n",
        "edades = []\n",
        "for i in range(10):\n",
        "    edad = int(input(f\"Ingresa la edad de la persona {i + 1}: \"))\n",
        "    edades.append(edad)\n",
        "\n",
        "# Contar la cantidad de personas con edades superiores a 20\n",
        "cantidad_superiores_a_20 = sum(1 for edad in edades if edad > 20)\n",
        "\n",
        "print(f\"La cantidad de personas con edades superiores a 20 es: {cantidad_superiores_a_20}\")"
      ],
      "metadata": {
        "colab": {
          "base_uri": "https://localhost:8080/"
        },
        "id": "toRad2UXQ6ag",
        "outputId": "ea655c3f-1c7a-416d-e087-03892415ffce"
      },
      "execution_count": null,
      "outputs": [
        {
          "output_type": "stream",
          "name": "stdout",
          "text": [
            "La cantidad de personas con edades superiores a 20 es: 8\n",
            "Ingresa la edad de la persona 1: 10\n",
            "Ingresa la edad de la persona 2: 12\n",
            "Ingresa la edad de la persona 3: 14\n",
            "Ingresa la edad de la persona 4: 18\n",
            "Ingresa la edad de la persona 5: 22\n",
            "Ingresa la edad de la persona 6: 26\n",
            "Ingresa la edad de la persona 7: 30\n",
            "Ingresa la edad de la persona 8: 35\n",
            "Ingresa la edad de la persona 9: 40\n",
            "Ingresa la edad de la persona 10: 50\n",
            "La cantidad de personas con edades superiores a 20 es: 6\n"
          ]
        }
      ]
    },
    {
      "cell_type": "code",
      "source": [
        "# 18. Definir una lista con un conjunto de nombres, imprimir la cantidad de comienzan con la letra a.\n",
        "# También se puede hacer elegir al usuario la letra a buscar.\n",
        "\n",
        "# Primera solución:\n",
        "# Definir una lista de nombres\n",
        "nombres = [\"Ana\", \"Carlos\", \"Andrés\", \"Alicia\", \"Pedro\", \"Luisa\", \"Adriana\"]\n",
        "\n",
        "# Contar la cantidad de nombres que comienzan con la letra \"a\"\n",
        "letra = \"a\"  # Puedes cambiar la letra aquí\n",
        "\n",
        "cantidad_con_letra = sum(1 for nombre in nombres if nombre.lower().startswith(letra.lower()))\n",
        "\n",
        "print(f\"La cantidad de nombres que comienzan con la letra '{letra}' es: {cantidad_con_letra}\")\n",
        "\n",
        "#Segunda solución:\n",
        "# Definir una lista de nombres\n",
        "nombres = [\"Ana\", \"Carlos\", \"Andrés\", \"Alicia\", \"Pedro\", \"Luisa\", \"Adriana\"]\n",
        "\n",
        "# Pedir al usuario que ingrese la letra a buscar\n",
        "letra = input(\"Ingresa la letra que deseas buscar: \")\n",
        "\n",
        "# Contar la cantidad de nombres que comienzan con la letra ingresada por el usuario\n",
        "cantidad_con_letra = sum(1 for nombre in nombres if nombre.lower().startswith(letra.lower()))\n",
        "\n",
        "print(f\"La cantidad de nombres que comienzan con la letra '{letra}' es: {cantidad_con_letra}\")\n"
      ],
      "metadata": {
        "id": "t8eH3RV0SGav"
      },
      "execution_count": null,
      "outputs": []
    },
    {
      "cell_type": "code",
      "source": [
        "# 19. Crear una función contar_vocales(), que reciba una palabra y cuente cuantas letras \"a\" tiene, cuantas letras \"e\" tiene y así hasta completar todas las vocales.\n",
        "# Se puede hacer que el usuario sea quien elija la palabra.\n",
        "\n",
        "def contar_vocales(palabra):\n",
        "    # Inicializar contadores para cada vocal\n",
        "    contador_a = 0\n",
        "    contador_e = 0\n",
        "    contador_i = 0\n",
        "    contador_o = 0\n",
        "    contador_u = 0\n",
        "\n",
        "    # Recorrer la palabra y contar las vocales\n",
        "    for letra in palabra:\n",
        "        letra = letra.lower()  # Convertir la letra a minúsculas para hacer comparaciones insensibles a mayúsculas y minúsculas\n",
        "        if letra == 'a':\n",
        "            contador_a += 1\n",
        "        elif letra == 'e':\n",
        "            contador_e += 1\n",
        "        elif letra == 'i':\n",
        "            contador_i += 1\n",
        "        elif letra == 'o':\n",
        "            contador_o += 1\n",
        "        elif letra == 'u':\n",
        "            contador_u += 1\n",
        "\n",
        "    # Devolver los resultados como un diccionario\n",
        "    resultados = {\n",
        "        'a': contador_a,\n",
        "        'e': contador_e,\n",
        "        'i': contador_i,\n",
        "        'o': contador_o,\n",
        "        'u': contador_u\n",
        "    }\n",
        "    return resultados\n",
        "\n",
        "# Pedir al usuario que ingrese una palabra\n",
        "palabra = input(\"Ingresa una palabra: \")\n",
        "\n",
        "# Llamar a la función para contar las vocales en la palabra\n",
        "resultados = contar_vocales(palabra)\n",
        "\n",
        "# Imprimir los resultados\n",
        "for vocal, cantidad in resultados.items():\n",
        "    print(f\"La letra '{vocal}' aparece {cantidad} veces en la palabra.\")"
      ],
      "metadata": {
        "colab": {
          "base_uri": "https://localhost:8080/"
        },
        "id": "NwjzmoMuTEmw",
        "outputId": "50a30ee8-5f75-41c6-bad2-99da20078150"
      },
      "execution_count": null,
      "outputs": [
        {
          "output_type": "stream",
          "name": "stdout",
          "text": [
            "Ingresa una palabra: esternocleidomastoideo\n",
            "La letra 'a' aparece 1 veces en la palabra.\n",
            "La letra 'e' aparece 4 veces en la palabra.\n",
            "La letra 'i' aparece 2 veces en la palabra.\n",
            "La letra 'o' aparece 4 veces en la palabra.\n",
            "La letra 'u' aparece 0 veces en la palabra.\n"
          ]
        }
      ]
    },
    {
      "cell_type": "code",
      "source": [
        "# 20. Escriba una función es_bisiesto() que determine si un año determinado es un año bisiesto.\n",
        "# Un año bisiesto es divisible por 4, pero no por 100. También es divisible por 400.\n",
        "\n",
        "def es_bisiesto(anio):\n",
        "    if (anio % 4 == 0 and anio % 100 != 0) or (anio % 400 == 0):\n",
        "        return True\n",
        "    else:\n",
        "        return False\n",
        "\n",
        "# Ejemplo de uso\n",
        "anio = 2024\n",
        "if es_bisiesto(anio):\n",
        "    print(f\"{anio} es un año bisiesto.\")\n",
        "else:\n",
        "    print(f\"{anio} no es un año bisiesto.\")\n",
        "\n",
        "    # Ejemplo de uso\n",
        "anio = 2023\n",
        "if es_bisiesto(anio):\n",
        "    print(f\"{anio} es un año bisiesto.\")\n",
        "else:\n",
        "    print(f\"{anio} no es un año bisiesto.\")"
      ],
      "metadata": {
        "colab": {
          "base_uri": "https://localhost:8080/"
        },
        "id": "MpifVPDSTXxY",
        "outputId": "82a32c9e-30a9-4fd8-b9ae-6a018fd31a36"
      },
      "execution_count": null,
      "outputs": [
        {
          "output_type": "stream",
          "name": "stdout",
          "text": [
            "2024 es un año bisiesto.\n",
            "2023 no es un año bisiesto.\n"
          ]
        }
      ]
    },
    {
      "cell_type": "code",
      "source": [
        "# 21. Realice un programa que enumere los paises de la siguiente lista:\n",
        "# paises = ['Canada', 'USA', 'Mexico', 'Australia']\n",
        "\n",
        "paises = ['Canada', 'USA', 'Mexico', 'Australia']\n",
        "\n",
        "# Usar un bucle for para enumerar los países\n",
        "for indice, pais in enumerate(paises, start=1):\n",
        "    print(f\"{indice}. {pais}\")"
      ],
      "metadata": {
        "colab": {
          "base_uri": "https://localhost:8080/"
        },
        "id": "bxVi9VtsX8ZO",
        "outputId": "50d2aad9-b565-4534-94af-b9dacc7fb21d"
      },
      "execution_count": null,
      "outputs": [
        {
          "output_type": "stream",
          "name": "stdout",
          "text": [
            "1. Canada\n",
            "2. USA\n",
            "3. Mexico\n",
            "4. Australia\n"
          ]
        }
      ]
    },
    {
      "cell_type": "code",
      "source": [
        "# 22. Crear un ciclo for que cuente de 0 a 100.\n",
        "\n",
        "for numero in range(101):\n",
        "    print(numero)"
      ],
      "metadata": {
        "id": "Ul5qoE3gYMJ9"
      },
      "execution_count": null,
      "outputs": []
    },
    {
      "cell_type": "code",
      "source": [
        "# 23. Imprima los números del 1 a 10 al revés.\n",
        "\n",
        "for numero in range(10, 0, -1):\n",
        "    print(numero)"
      ],
      "metadata": {
        "id": "aq3K32d9YYnH"
      },
      "execution_count": null,
      "outputs": []
    },
    {
      "cell_type": "code",
      "source": [
        "# 24. Crear un bucle que cuente todos los números pares hasta el 100\n",
        "\n",
        "for numero in range(2, 101, 2):\n",
        "    print(numero)"
      ],
      "metadata": {
        "id": "JIslBFEZZT-c"
      },
      "execution_count": null,
      "outputs": []
    },
    {
      "cell_type": "code",
      "source": [
        "# 25. Crear un bucle que cuente todos los números impares hasta el 100\n",
        "\n",
        "for numero in range(1, 100, 2):\n",
        "    print(numero)"
      ],
      "metadata": {
        "id": "zqVS6h0wZ2nm"
      },
      "execution_count": null,
      "outputs": []
    },
    {
      "cell_type": "code",
      "source": [
        "# 26. Cree un bucle que sume los números del 100 al 200\n",
        "\n",
        "suma = 0\n",
        "for numero in range(100, 201):\n",
        "    suma += numero\n",
        "\n",
        "print(f\"La suma de los números del 100 al 200 es: {suma}\")"
      ],
      "metadata": {
        "colab": {
          "base_uri": "https://localhost:8080/"
        },
        "id": "nU6s1VRwaJI0",
        "outputId": "9f126f2e-7873-4bdc-c8e6-3b446dc93931"
      },
      "execution_count": null,
      "outputs": [
        {
          "output_type": "stream",
          "name": "stdout",
          "text": [
            "La suma de los números del 100 al 200 es: 15150\n"
          ]
        }
      ]
    },
    {
      "cell_type": "code",
      "source": [
        "# 27. Dado un número, cuente el número total de dígitos de un número\n",
        "# Por ejemplo, el número es 75869, por lo que la salida debería ser 5.\n",
        "\n",
        "numero = 75869\n",
        "cadena_numero = str(numero)\n",
        "cantidad_digitos = len(cadena_numero)\n",
        "\n",
        "print(f\"El número {numero} tiene {cantidad_digitos} dígitos.\")\n"
      ],
      "metadata": {
        "colab": {
          "base_uri": "https://localhost:8080/"
        },
        "id": "9IVDdGmXaaHO",
        "outputId": "681acc81-9776-40f7-b766-f46860950454"
      },
      "execution_count": null,
      "outputs": [
        {
          "output_type": "stream",
          "name": "stdout",
          "text": [
            "El número 75869 tiene 5 dígitos.\n"
          ]
        }
      ]
    },
    {
      "cell_type": "code",
      "source": [
        "# 28. Mostrar serie de Fibonacci hasta 10 términos\n",
        "\n",
        "# Inicializar los primeros dos términos de la serie de Fibonacci\n",
        "a, b = 0, 1\n",
        "\n",
        "# Mostrar los primeros 10 términos\n",
        "for _ in range(10):\n",
        "    print(a, end=\" \")\n",
        "    a, b = b, a + b"
      ],
      "metadata": {
        "colab": {
          "base_uri": "https://localhost:8080/"
        },
        "id": "axZJknVfa27a",
        "outputId": "b311adb5-0d64-4f2a-82d7-0fe257210d91"
      },
      "execution_count": null,
      "outputs": [
        {
          "output_type": "stream",
          "name": "stdout",
          "text": [
            "0 1 1 2 3 5 8 13 21 34 "
          ]
        }
      ]
    },
    {
      "cell_type": "code",
      "source": [
        "# 29. Use un bucle para mostrar elementos de una lista dada que estén presentes en posiciones pares\n",
        "\n",
        "mi_lista = [10, 20, 30, 40, 50, 60, 70, 80, 90, 100, 110, 120]\n",
        "\n",
        "for i in range(1, len(mi_lista), 2):\n",
        "    print(mi_lista[i])"
      ],
      "metadata": {
        "colab": {
          "base_uri": "https://localhost:8080/"
        },
        "id": "QGlyMJc8bGiR",
        "outputId": "75fd36ae-deb1-474e-8170-569393ca11ee"
      },
      "execution_count": null,
      "outputs": [
        {
          "output_type": "stream",
          "name": "stdout",
          "text": [
            "20\n",
            "40\n",
            "60\n",
            "80\n",
            "100\n",
            "120\n"
          ]
        }
      ]
    },
    {
      "cell_type": "code",
      "source": [
        "# 30. Imprima el siguiente patrón con el ciclo for:\n",
        "# *\n",
        "# **\n",
        "# ***\n",
        "# ****\n",
        "# *****\n",
        "# ****\n",
        "# ***\n",
        "# **\n",
        "# *\n",
        "\n",
        "n = 5\n",
        "\n",
        "# Imprimir la parte superior del patrón\n",
        "for i in range(1, n + 1):\n",
        "    print('*' * i)\n",
        "\n",
        "# Imprimir la parte inferior del patrón\n",
        "for i in range(n - 1, 0, -1):\n",
        "    print('*' * i)"
      ],
      "metadata": {
        "colab": {
          "base_uri": "https://localhost:8080/"
        },
        "id": "ir9SDHzRbkJJ",
        "outputId": "8c0c0ed9-4499-423a-f6d0-ebb8794da5d4"
      },
      "execution_count": null,
      "outputs": [
        {
          "output_type": "stream",
          "name": "stdout",
          "text": [
            "*\n",
            "**\n",
            "***\n",
            "****\n",
            "*****\n",
            "****\n",
            "***\n",
            "**\n",
            "*\n"
          ]
        }
      ]
    },
    {
      "cell_type": "code",
      "source": [
        "# 31. Imprima el siguiente patrón con el ciclo for:\n",
        "# 5 4 3 2 1\n",
        "# 4 3 2 1\n",
        "# 3 2 1\n",
        "# 2 1\n",
        "# 1\n",
        "\n",
        "n = 5\n",
        "\n",
        "for i in range(n, 0, -1):\n",
        "    for j in range(i, 0, -1):\n",
        "        print(j, end=\" \")\n",
        "    print()"
      ],
      "metadata": {
        "colab": {
          "base_uri": "https://localhost:8080/"
        },
        "id": "fHATgBQOceEE",
        "outputId": "4c7d39fa-873c-4828-a4c5-66021bbd69d3"
      },
      "execution_count": null,
      "outputs": [
        {
          "output_type": "stream",
          "name": "stdout",
          "text": [
            "5 4 3 2 1 \n",
            "4 3 2 1 \n",
            "3 2 1 \n",
            "2 1 \n",
            "1 \n"
          ]
        }
      ]
    },
    {
      "cell_type": "code",
      "source": [
        "# 32. Escriba un programa en Python para imprimir todos los números primos entre 0 y 100 e imprima cuántos números primos hay.\n",
        "\n",
        "def es_primo(numero):\n",
        "    if numero <= 1:\n",
        "        return False\n",
        "    if numero <= 3:\n",
        "        return True\n",
        "    if numero % 2 == 0 or numero % 3 == 0:\n",
        "        return False\n",
        "    i = 5\n",
        "    while i * i <= numero:\n",
        "        if numero % i == 0 or numero % (i + 2) == 0:\n",
        "            return False\n",
        "        i += 6\n",
        "    return True\n",
        "\n",
        "cantidad_primos = 0\n",
        "\n",
        "for num in range(101):\n",
        "    if es_primo(num):\n",
        "        print(num, end=\" \")\n",
        "        cantidad_primos += 1\n",
        "\n",
        "print(\"\\nCantidad de números primos entre 0 y 100:\", cantidad_primos)"
      ],
      "metadata": {
        "colab": {
          "base_uri": "https://localhost:8080/"
        },
        "id": "MCUsej0ec4ut",
        "outputId": "7324af68-455b-471b-850b-20fa7825239d"
      },
      "execution_count": null,
      "outputs": [
        {
          "output_type": "stream",
          "name": "stdout",
          "text": [
            "2 3 5 7 11 13 17 19 23 29 31 37 41 43 47 53 59 61 67 71 73 79 83 89 97 \n",
            "Cantidad de números primos entre 0 y 100: 25\n"
          ]
        }
      ]
    },
    {
      "cell_type": "code",
      "source": [
        "# 33. Has un programa que pida al usuario una cantidad de dólares, una tasa de interés y un número de años.\n",
        "# Muestra por pantalla en cuanto se habrá convertido el capital inicial transcurridos esos años si cada año se aplica la tasa de interés introducida.\n",
        "# Hay que recordar que un capital C dólares a un interés del x por cien durante n años se convierte en C * (1 + x/100) elevado a n (años).\n",
        "# Probar el programa sabiendo que una cantidad de 10000 dólares al 4.5% de interés anual se convierte en 24117.14 dólares al cabo de 20 años.\n",
        "\n",
        "# Solicitar al usuario la cantidad de dólares, la tasa de interés y el número de años\n",
        "capital_inicial = float(input(\"Ingrese la cantidad de dólares: \"))\n",
        "tasa_interes = float(input(\"Ingrese la tasa de interés anual (%): \"))\n",
        "anios = int(input(\"Ingrese el número de años: \"))\n",
        "\n",
        "# Calcular el monto futuro\n",
        "monto_futuro = capital_inicial * (1 + tasa_interes / 100) ** anios\n",
        "\n",
        "# Mostrar el resultado\n",
        "print(f\"Después de {anios} años, ${capital_inicial:.2f} a una tasa de interés del {tasa_interes}% se convertirá en ${monto_futuro:.2f}.\")"
      ],
      "metadata": {
        "colab": {
          "base_uri": "https://localhost:8080/"
        },
        "id": "-IqOqzH6dXSX",
        "outputId": "6472c098-7d19-4e10-bbde-2b338893b2ab"
      },
      "execution_count": null,
      "outputs": [
        {
          "output_type": "stream",
          "name": "stdout",
          "text": [
            "Ingrese la cantidad de dólares: 100\n",
            "Ingrese la tasa de interés anual (%): 20\n",
            "Ingrese el número de años: 4\n",
            "Después de 4 años, $100.00 a una tasa de interés del 20.0% se convertirá en $207.36.\n"
          ]
        }
      ]
    },
    {
      "cell_type": "code",
      "source": [
        "# 34. Este programa pide primeramente la cantidad total de compras de una persona.\n",
        "# Si la cantidad es inferior a $100.00, el programa dirá que el cliente no aplica a la promoción.\n",
        "# Pero si la persona ingresa una cantidad en compras igual o superior a $100.00, el programa genera de forma aleatoria un número entero del cero al cinco.\n",
        "# Cada número corresponderá a un color diferente de cinco colores de bolas que hay para determinar el descuento que el cliente recibirá como premio.\n",
        "# Si la bola aleatoria es color blanco, no hay descuento, pero si es uno de los otros cuatro colores,\n",
        "# sí se aplicará un descuento determinado según la tabla que aparecerá, y ese descuento se aplicará sobre el total de compra\n",
        "# que introdujo inicialmente el usuario, de manera que el programa mostrará un nuevo valor a pagar luego de haber aplicado el descuento.\n",
        "\n",
        "import random\n",
        "\n",
        "while True:\n",
        "  # Solicitar al usuario la cantidad total de compras\n",
        "  total_compras = float(input(\"Ingrese la cantidad total de compras: $\"))\n",
        "\n",
        "  # Verificar si el usuario califica para la promoción\n",
        "  if total_compras < 100:\n",
        "      print(\"Lo siento, no califica para la promoción.\")\n",
        "  else:\n",
        "      # Generar un número aleatorio entre 0 y 5 (inclusive) para representar los colores\n",
        "      numero_aleatorio = random.randint(0, 5)\n",
        "\n",
        "      # Asociar colores y descuentos\n",
        "      colores = [\"blanco\", \"rojo\", \"azul\", \"verde\", \"amarillo\"]\n",
        "      descuentos = [0, 10, 20, 25, 50]\n",
        "      color = colores[numero_aleatorio]\n",
        "      descuento = descuentos[numero_aleatorio]\n",
        "\n",
        "      # Calcular el monto con descuento\n",
        "      monto_descuento = total_compras * (descuento / 100)\n",
        "      total_con_descuento = total_compras - monto_descuento\n",
        "\n",
        "      # Mostrar el resultado\n",
        "      print(f\"Ha obtenido una bola de color {color}.\")\n",
        "      if color == \"blanco\":\n",
        "          print(\"Lo siento, no hay descuento.\")\n",
        "      else:\n",
        "          print(f\"Ha recibido un descuento del {descuento}%.\")\n",
        "          print(f\"Total a pagar después del descuento: ${total_con_descuento:.2f}\")\n",
        "\n",
        "# Preguntar al usuario si desean ingresar otro valor\n",
        "  continuar = input(\"¿Desea ingresar otro valor (s/n)? \")\n",
        "  if continuar.lower() != \"s\":\n",
        "      break"
      ],
      "metadata": {
        "colab": {
          "base_uri": "https://localhost:8080/"
        },
        "id": "dlOG78Xld1sq",
        "outputId": "b5959ce2-aff0-4199-a16f-b2e556593d23"
      },
      "execution_count": null,
      "outputs": [
        {
          "name": "stdout",
          "output_type": "stream",
          "text": [
            "Ingrese la cantidad total de compras: $200\n",
            "Ha obtenido una bola de color verde.\n",
            "Ha recibido un descuento del 25%.\n",
            "Total a pagar después del descuento: $150.00\n",
            "¿Desea ingresar otro valor (s/n)? s\n",
            "Ingrese la cantidad total de compras: $200\n",
            "Ha obtenido una bola de color rojo.\n",
            "Ha recibido un descuento del 10%.\n",
            "Total a pagar después del descuento: $180.00\n",
            "¿Desea ingresar otro valor (s/n)? n\n"
          ]
        }
      ]
    },
    {
      "cell_type": "code",
      "source": [
        "# 35. De la galería de productos, el usuario introducirá el código y el número de unidades del producto que desea comprar.\n",
        "# El programa determinará el total a pagar, como una factura.\n",
        "# Una variante a este ejercicio que lo haría un poco más complejo sería dar la posibilidad de seguir ingresando diferentes\n",
        "# códigos de productos con sus respectivas cantidades, y cuando el usuario desee terminar el cálculo de la factura completa con todas sus compras.\n",
        "\n",
        "# Definir un diccionario de productos con códigos y precios\n",
        "productos = {\n",
        "    \"A123\": 10.99,\n",
        "    \"B456\": 5.49,\n",
        "    \"C789\": 7.99,\n",
        "    \"D234\": 3.99,\n",
        "    \"E567\": 12.49\n",
        "}\n",
        "\n",
        "while True:\n",
        "    factura = 0.0  # Reiniciar la factura para una nueva compra\n",
        "\n",
        "    while True:\n",
        "        codigo = input(\"Ingrese el código del producto (o 'fin' para terminar la factura actual): \")\n",
        "\n",
        "        if codigo.lower() == \"fin\":\n",
        "            break\n",
        "\n",
        "        if codigo in productos:\n",
        "            cantidad = int(input(\"Ingrese la cantidad de unidades: \"))\n",
        "            if cantidad < 0:\n",
        "                print(\"La cantidad no puede ser negativa. Intente nuevamente.\")\n",
        "            else:\n",
        "                precio_unitario = productos[codigo]\n",
        "                total_producto = precio_unitario * cantidad\n",
        "                factura += total_producto\n",
        "                print(f\"Producto: {codigo}, Cantidad: {cantidad}, Total: ${total_producto:.2f}\")\n",
        "        else:\n",
        "            print(\"Código de producto no válido. Intente nuevamente.\")\n",
        "\n",
        "    print(f\"Total a pagar: ${factura:.2f}\")\n",
        "\n",
        "    continuar = input(\"¿Desea ingresar otra compra (s/n)? \")\n",
        "    if continuar.lower() != \"s\":\n",
        "        break"
      ],
      "metadata": {
        "colab": {
          "base_uri": "https://localhost:8080/"
        },
        "id": "20nKglbif054",
        "outputId": "44633861-30c6-442a-a518-b8adf3edfc10"
      },
      "execution_count": null,
      "outputs": [
        {
          "name": "stdout",
          "output_type": "stream",
          "text": [
            "Ingrese el código del producto (o 'fin' para terminar la factura actual): A123\n",
            "Ingrese la cantidad de unidades: 4\n",
            "Producto: A123, Cantidad: 4, Total: $43.96\n",
            "Ingrese el código del producto (o 'fin' para terminar la factura actual): fin\n",
            "Total a pagar: $43.96\n",
            "¿Desea ingresar otra compra (s/n)? n\n"
          ]
        }
      ]
    },
    {
      "cell_type": "code",
      "source": [
        "# 36. Este programa muestra primero el listado de categorías de películas y pide al usuario\n",
        "# que introduzca el código de la categoría de la película y posterior a ello pide que el usuario\n",
        "# introduzca el número de días de atraso, y así se muestra al final el total a pagar.\n",
        "\n",
        "# Definir un diccionario de tarifas de alquiler por categoría\n",
        "tarifas = {\n",
        "    \"A\": 1.50,\n",
        "    \"B\": 2.00,\n",
        "    \"C\": 2.50,\n",
        "    \"D\": 3.00\n",
        "}\n",
        "\n",
        "# Mostrar el listado de categorías de películas\n",
        "print(\"Listado de categorías de películas:\")\n",
        "for categoria, tarifa in tarifas.items():\n",
        "    print(f\"{categoria}: ${tarifa} por día\")\n",
        "\n",
        "while True:\n",
        "    # Solicitar al usuario el código de la categoría\n",
        "    categoria = input(\"Ingrese el código de la categoría de la película: \")\n",
        "\n",
        "    if categoria in tarifas:\n",
        "        # Solicitar al usuario el número de días de atraso\n",
        "        dias_atraso = int(input(\"Ingrese el número de días de atraso: \"))\n",
        "        if dias_atraso < 0:\n",
        "            print(\"El número de días de atraso no puede ser negativo. Intente nuevamente.\")\n",
        "        else:\n",
        "            # Calcular el total a pagar\n",
        "            tarifa_diaria = tarifas[categoria]\n",
        "            total_pagar = tarifa_diaria * dias_atraso\n",
        "            print(f\"Total a pagar: ${total_pagar:.2f}\")\n",
        "    else:\n",
        "        print(\"Código de categoría no válido. Intente nuevamente.\")\n",
        "\n",
        "    continuar = input(\"¿Desea realizar otro alquiler (s/n)? \")\n",
        "    if continuar.lower() != \"s\":\n",
        "        break"
      ],
      "metadata": {
        "colab": {
          "base_uri": "https://localhost:8080/"
        },
        "id": "3IllYKjtgblU",
        "outputId": "cd41d64b-a65f-41f0-cd94-d6c85d3a11e0"
      },
      "execution_count": null,
      "outputs": [
        {
          "name": "stdout",
          "output_type": "stream",
          "text": [
            "Listado de categorías de películas:\n",
            "A: $1.5 por día\n",
            "B: $2.0 por día\n",
            "C: $2.5 por día\n",
            "D: $3.0 por día\n",
            "Ingrese el código de la categoría de la película: B\n",
            "Ingrese el número de días de atraso: 10\n",
            "Total a pagar: $20.00\n",
            "¿Desea realizar otro alquiler (s/n)? s\n",
            "Ingrese el código de la categoría de la película: D\n",
            "Ingrese el número de días de atraso: 50\n",
            "Total a pagar: $150.00\n",
            "¿Desea realizar otro alquiler (s/n)? n\n"
          ]
        }
      ]
    }
  ]
}